{
 "cells": [
  {
   "cell_type": "code",
   "execution_count": 1,
   "metadata": {},
   "outputs": [],
   "source": [
    "import pandas as pd\n",
    "from sklearn.metrics.pairwise import cosine_similarity\n",
    "from sklearn.feature_extraction.text import TfidfVectorizer\n",
    "\n",
    "dataset = pd.read_csv('data/processed_series_data.csv')\n",
    "vectorizer = TfidfVectorizer()\n",
    "tfidf_matrix = vectorizer.fit_transform(dataset['text'])\n",
    "\n"
   ]
  },
  {
   "cell_type": "code",
   "execution_count": 7,
   "metadata": {},
   "outputs": [],
   "source": [
    "def search(query, top_n=3):\n",
    "    query_vec = vectorizer.transform([query])\n",
    "    scores = cosine_similarity(query_vec, tfidf_matrix).flatten()\n",
    "    top_indices = scores.argsort()[-top_n:][::-1]\n",
    "    return dataset.iloc[top_indices], scores"
   ]
  },
  {
   "cell_type": "code",
   "execution_count": 9,
   "metadata": {},
   "outputs": [
    {
     "name": "stdout",
     "output_type": "stream",
     "text": [
      "[0.49433877 0.         0.         ... 0.         0.         0.        ]\n"
     ]
    },
    {
     "data": {
      "text/html": [
       "<div>\n",
       "<style scoped>\n",
       "    .dataframe tbody tr th:only-of-type {\n",
       "        vertical-align: middle;\n",
       "    }\n",
       "\n",
       "    .dataframe tbody tr th {\n",
       "        vertical-align: top;\n",
       "    }\n",
       "\n",
       "    .dataframe thead th {\n",
       "        text-align: right;\n",
       "    }\n",
       "</style>\n",
       "<table border=\"1\" class=\"dataframe\">\n",
       "  <thead>\n",
       "    <tr style=\"text-align: right;\">\n",
       "      <th></th>\n",
       "      <th>Unnamed: 0</th>\n",
       "      <th>name</th>\n",
       "      <th>slug</th>\n",
       "      <th>image</th>\n",
       "      <th>firstAired</th>\n",
       "      <th>lastAired</th>\n",
       "      <th>lastUpdated</th>\n",
       "      <th>overview</th>\n",
       "      <th>year</th>\n",
       "      <th>text</th>\n",
       "    </tr>\n",
       "  </thead>\n",
       "  <tbody>\n",
       "    <tr>\n",
       "      <th>0</th>\n",
       "      <td>0</td>\n",
       "      <td>A Current Affair</td>\n",
       "      <td>a-current-affair</td>\n",
       "      <td>/banners/series/73296/posters/5e8816a06c3a1.jpg</td>\n",
       "      <td>2023-08-30</td>\n",
       "      <td>2024-01-02</td>\n",
       "      <td>2024-08-14 02:16:39</td>\n",
       "      <td>A Current Affair is an Australian current affa...</td>\n",
       "      <td>2023.0</td>\n",
       "      <td>current affair australian current affairs prog...</td>\n",
       "    </tr>\n",
       "    <tr>\n",
       "      <th>9201</th>\n",
       "      <td>9201</td>\n",
       "      <td>After Show</td>\n",
       "      <td>after-show</td>\n",
       "      <td>NaN</td>\n",
       "      <td>2021-05-25</td>\n",
       "      <td>2021-05-25</td>\n",
       "      <td>2021-07-16 12:42:17</td>\n",
       "      <td>Current community news and interviews around A...</td>\n",
       "      <td>2021.0</td>\n",
       "      <td>current community news interviews around america</td>\n",
       "    </tr>\n",
       "    <tr>\n",
       "      <th>10106</th>\n",
       "      <td>10106</td>\n",
       "      <td>Ada On Demand</td>\n",
       "      <td>ada-on-demand</td>\n",
       "      <td>NaN</td>\n",
       "      <td>2020-01-15</td>\n",
       "      <td>2022-01-19</td>\n",
       "      <td>2022-01-19 21:02:42</td>\n",
       "      <td>Videos about pop culture, politics, and curren...</td>\n",
       "      <td>2020.0</td>\n",
       "      <td>videos pop culture politics current events</td>\n",
       "    </tr>\n",
       "  </tbody>\n",
       "</table>\n",
       "</div>"
      ],
      "text/plain": [
       "       Unnamed: 0              name              slug  \\\n",
       "0               0  A Current Affair  a-current-affair   \n",
       "9201         9201        After Show        after-show   \n",
       "10106       10106     Ada On Demand     ada-on-demand   \n",
       "\n",
       "                                                 image  firstAired  \\\n",
       "0      /banners/series/73296/posters/5e8816a06c3a1.jpg  2023-08-30   \n",
       "9201                                               NaN  2021-05-25   \n",
       "10106                                              NaN  2020-01-15   \n",
       "\n",
       "        lastAired          lastUpdated  \\\n",
       "0      2024-01-02  2024-08-14 02:16:39   \n",
       "9201   2021-05-25  2021-07-16 12:42:17   \n",
       "10106  2022-01-19  2022-01-19 21:02:42   \n",
       "\n",
       "                                                overview    year  \\\n",
       "0      A Current Affair is an Australian current affa...  2023.0   \n",
       "9201   Current community news and interviews around A...  2021.0   \n",
       "10106  Videos about pop culture, politics, and curren...  2020.0   \n",
       "\n",
       "                                                    text  \n",
       "0      current affair australian current affairs prog...  \n",
       "9201    current community news interviews around america  \n",
       "10106         videos pop culture politics current events  "
      ]
     },
     "execution_count": 9,
     "metadata": {},
     "output_type": "execute_result"
    }
   ],
   "source": [
    "results, scores = search(\"affair australian current\")\n",
    "print(scores)\n",
    "results.head()"
   ]
  }
 ],
 "metadata": {
  "kernelspec": {
   "display_name": "Python 3",
   "language": "python",
   "name": "python3"
  },
  "language_info": {
   "codemirror_mode": {
    "name": "ipython",
    "version": 3
   },
   "file_extension": ".py",
   "mimetype": "text/x-python",
   "name": "python",
   "nbconvert_exporter": "python",
   "pygments_lexer": "ipython3",
   "version": "3.12.7"
  }
 },
 "nbformat": 4,
 "nbformat_minor": 2
}
