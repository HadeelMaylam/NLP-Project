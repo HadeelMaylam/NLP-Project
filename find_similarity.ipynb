{
 "cells": [
  {
   "cell_type": "code",
   "execution_count": 1,
   "metadata": {},
   "outputs": [],
   "source": [
    "import pandas as pd\n",
    "from sklearn.metrics.pairwise import cosine_similarity\n",
    "from sklearn.feature_extraction.text import TfidfVectorizer\n",
    "\n",
    "dataset = pd.read_csv('data/processed_series_data.csv')\n",
    "vectorizer = TfidfVectorizer()\n",
    "tfidf_matrix = vectorizer.fit_transform(dataset['text'])\n",
    "\n"
   ]
  },
  {
   "cell_type": "code",
   "execution_count": 7,
   "metadata": {},
   "outputs": [],
   "source": [
    "def search(query, top_n=3):\n",
    "    query_vec = vectorizer.transform([query])\n",
    "    scores = cosine_similarity(query_vec, tfidf_matrix).flatten()\n",
    "    top_indices = scores.argsort()[-top_n:][::-1]\n",
    "    return dataset.iloc[top_indices], scores"
   ]
  },
  {
   "cell_type": "code",
   "execution_count": null,
   "metadata": {},
   "outputs": [
    {
     "name": "stdout",
     "output_type": "stream",
     "text": [
      "[0. 0. 0. ... 0. 0. 0.]\n"
     ]
    },
    {
     "data": {
      "text/html": [
       "<div>\n",
       "<style scoped>\n",
       "    .dataframe tbody tr th:only-of-type {\n",
       "        vertical-align: middle;\n",
       "    }\n",
       "\n",
       "    .dataframe tbody tr th {\n",
       "        vertical-align: top;\n",
       "    }\n",
       "\n",
       "    .dataframe thead th {\n",
       "        text-align: right;\n",
       "    }\n",
       "</style>\n",
       "<table border=\"1\" class=\"dataframe\">\n",
       "  <thead>\n",
       "    <tr style=\"text-align: right;\">\n",
       "      <th></th>\n",
       "      <th>Unnamed: 0</th>\n",
       "      <th>name</th>\n",
       "      <th>slug</th>\n",
       "      <th>image</th>\n",
       "      <th>firstAired</th>\n",
       "      <th>lastAired</th>\n",
       "      <th>lastUpdated</th>\n",
       "      <th>overview</th>\n",
       "      <th>year</th>\n",
       "      <th>text</th>\n",
       "    </tr>\n",
       "  </thead>\n",
       "  <tbody>\n",
       "    <tr>\n",
       "      <th>0</th>\n",
       "      <td>0</td>\n",
       "      <td>A Current Affair</td>\n",
       "      <td>a-current-affair</td>\n",
       "      <td>/banners/series/73296/posters/5e8816a06c3a1.jpg</td>\n",
       "      <td>2023-08-30</td>\n",
       "      <td>2024-01-02</td>\n",
       "      <td>2024-08-14 02:16:39</td>\n",
       "      <td>A Current Affair is an Australian current affa...</td>\n",
       "      <td>2023.0</td>\n",
       "      <td>current affair australian current affairs prog...</td>\n",
       "    </tr>\n",
       "    <tr>\n",
       "      <th>30291</th>\n",
       "      <td>30291</td>\n",
       "      <td>The Last Party: Death On Tresco</td>\n",
       "      <td>the-last-party-death-on-tresco</td>\n",
       "      <td>/banners/v4/series/458307/posters/6770ed136955...</td>\n",
       "      <td>2024-12-28</td>\n",
       "      <td>2024-12-28</td>\n",
       "      <td>2024-12-29 06:32:52</td>\n",
       "      <td>23-year-old Josh Clayton mysteriously disappea...</td>\n",
       "      <td>2024.0</td>\n",
       "      <td>yearold josh clayton mysteriously disappeared ...</td>\n",
       "    </tr>\n",
       "    <tr>\n",
       "      <th>30290</th>\n",
       "      <td>30290</td>\n",
       "      <td>Vores Jord - Kurs Mod Nye Eventyr</td>\n",
       "      <td>vores-jord-kurs-mod-nye-eventyr</td>\n",
       "      <td>NaN</td>\n",
       "      <td>2024-12-29</td>\n",
       "      <td>2024-12-29</td>\n",
       "      <td>2024-12-29 05:11:48</td>\n",
       "      <td>Kom med på nye eventyr, når Mikkel, Marian, Al...</td>\n",
       "      <td>2024.0</td>\n",
       "      <td>kom med  nye eventyr nr mikkel marian alfred o...</td>\n",
       "    </tr>\n",
       "  </tbody>\n",
       "</table>\n",
       "</div>"
      ],
      "text/plain": [
       "       Unnamed: 0                                name  \\\n",
       "0               0                    A Current Affair   \n",
       "30291       30291     The Last Party: Death On Tresco   \n",
       "30290       30290  Vores Jord - Kurs Mod Nye Eventyr    \n",
       "\n",
       "                                  slug  \\\n",
       "0                     a-current-affair   \n",
       "30291   the-last-party-death-on-tresco   \n",
       "30290  vores-jord-kurs-mod-nye-eventyr   \n",
       "\n",
       "                                                   image  firstAired  \\\n",
       "0        /banners/series/73296/posters/5e8816a06c3a1.jpg  2023-08-30   \n",
       "30291  /banners/v4/series/458307/posters/6770ed136955...  2024-12-28   \n",
       "30290                                                NaN  2024-12-29   \n",
       "\n",
       "        lastAired          lastUpdated  \\\n",
       "0      2024-01-02  2024-08-14 02:16:39   \n",
       "30291  2024-12-28  2024-12-29 06:32:52   \n",
       "30290  2024-12-29  2024-12-29 05:11:48   \n",
       "\n",
       "                                                overview    year  \\\n",
       "0      A Current Affair is an Australian current affa...  2023.0   \n",
       "30291  23-year-old Josh Clayton mysteriously disappea...  2024.0   \n",
       "30290  Kom med på nye eventyr, når Mikkel, Marian, Al...  2024.0   \n",
       "\n",
       "                                                    text  \n",
       "0      current affair australian current affairs prog...  \n",
       "30291  yearold josh clayton mysteriously disappeared ...  \n",
       "30290  kom med  nye eventyr nr mikkel marian alfred o...  "
      ]
     },
     "execution_count": 8,
     "metadata": {},
     "output_type": "execute_result"
    }
   ],
   "source": [
    "results, scores = search(\"\")\n",
    "print(scores)\n",
    "results.head()"
   ]
  }
 ],
 "metadata": {
  "kernelspec": {
   "display_name": "Python 3",
   "language": "python",
   "name": "python3"
  },
  "language_info": {
   "codemirror_mode": {
    "name": "ipython",
    "version": 3
   },
   "file_extension": ".py",
   "mimetype": "text/x-python",
   "name": "python",
   "nbconvert_exporter": "python",
   "pygments_lexer": "ipython3",
   "version": "3.12.7"
  }
 },
 "nbformat": 4,
 "nbformat_minor": 2
}
