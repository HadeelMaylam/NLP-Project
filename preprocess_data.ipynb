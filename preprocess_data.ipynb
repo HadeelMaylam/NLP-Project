{
 "cells": [
  {
   "cell_type": "code",
   "execution_count": 1,
   "metadata": {},
   "outputs": [],
   "source": [
    "import pandas as pd"
   ]
  },
  {
   "cell_type": "code",
   "execution_count": 2,
   "metadata": {},
   "outputs": [
    {
     "name": "stdout",
     "output_type": "stream",
     "text": [
      "<class 'pandas.core.frame.DataFrame'>\n",
      "RangeIndex: 160884 entries, 0 to 160883\n",
      "Data columns (total 8 columns):\n",
      " #   Column       Non-Null Count   Dtype  \n",
      "---  ------       --------------   -----  \n",
      " 0   name         160858 non-null  object \n",
      " 1   slug         160840 non-null  object \n",
      " 2   image        114776 non-null  object \n",
      " 3   firstAired   140874 non-null  object \n",
      " 4   lastAired    140874 non-null  object \n",
      " 5   lastUpdated  160884 non-null  object \n",
      " 6   overview     143947 non-null  object \n",
      " 7   year         140874 non-null  float64\n",
      "dtypes: float64(1), object(7)\n",
      "memory usage: 9.8+ MB\n"
     ]
    }
   ],
   "source": [
    "df = pd.read_csv('data/series_data.csv')\n",
    "df.info()"
   ]
  },
  {
   "cell_type": "code",
   "execution_count": 3,
   "metadata": {},
   "outputs": [
    {
     "data": {
      "text/html": [
       "<div>\n",
       "<style scoped>\n",
       "    .dataframe tbody tr th:only-of-type {\n",
       "        vertical-align: middle;\n",
       "    }\n",
       "\n",
       "    .dataframe tbody tr th {\n",
       "        vertical-align: top;\n",
       "    }\n",
       "\n",
       "    .dataframe thead th {\n",
       "        text-align: right;\n",
       "    }\n",
       "</style>\n",
       "<table border=\"1\" class=\"dataframe\">\n",
       "  <thead>\n",
       "    <tr style=\"text-align: right;\">\n",
       "      <th></th>\n",
       "      <th>name</th>\n",
       "      <th>slug</th>\n",
       "      <th>image</th>\n",
       "      <th>firstAired</th>\n",
       "      <th>lastAired</th>\n",
       "      <th>lastUpdated</th>\n",
       "      <th>overview</th>\n",
       "      <th>year</th>\n",
       "    </tr>\n",
       "  </thead>\n",
       "  <tbody>\n",
       "    <tr>\n",
       "      <th>0</th>\n",
       "      <td>The Fall and Rise of Reginald Perrin</td>\n",
       "      <td>the-fall-and-rise-of-reginald-perrin</td>\n",
       "      <td>/banners/posters/70908-1.jpg</td>\n",
       "      <td>1976-09-08</td>\n",
       "      <td>1979-01-24</td>\n",
       "      <td>2024-11-13 03:45:22</td>\n",
       "      <td>Disillusioned after a long career at Sunshine ...</td>\n",
       "      <td>1976.0</td>\n",
       "    </tr>\n",
       "    <tr>\n",
       "      <th>1</th>\n",
       "      <td>The New Adventures of Batman</td>\n",
       "      <td>the-new-adventures-of-batman</td>\n",
       "      <td>/banners/posters/70909-5.jpg</td>\n",
       "      <td>1977-02-10</td>\n",
       "      <td>1977-05-26</td>\n",
       "      <td>2024-10-23 05:32:01</td>\n",
       "      <td>The New Adventures of Batman is an animated se...</td>\n",
       "      <td>1977.0</td>\n",
       "    </tr>\n",
       "    <tr>\n",
       "      <th>2</th>\n",
       "      <td>Legends of the Super-Heroes</td>\n",
       "      <td>legends-of-the-super-heroes</td>\n",
       "      <td>/banners/posters/70910-2.jpg</td>\n",
       "      <td>1979-01-18</td>\n",
       "      <td>1979-01-25</td>\n",
       "      <td>2024-10-03 14:00:47</td>\n",
       "      <td>Heroes and villains of DC Comics square off in...</td>\n",
       "      <td>1979.0</td>\n",
       "    </tr>\n",
       "    <tr>\n",
       "      <th>3</th>\n",
       "      <td>Tarzan and the Super 7</td>\n",
       "      <td>tarzan-and-the-super-7</td>\n",
       "      <td>/banners/posters/70911-1.jpg</td>\n",
       "      <td>1978-01-13</td>\n",
       "      <td>1979-04-21</td>\n",
       "      <td>2023-03-14 02:54:52</td>\n",
       "      <td>Tarzan and the Super 7, is a Saturday morning ...</td>\n",
       "      <td>1978.0</td>\n",
       "    </tr>\n",
       "    <tr>\n",
       "      <th>4</th>\n",
       "      <td>Larry King Live</td>\n",
       "      <td>larry-king-live</td>\n",
       "      <td>/banners/posters/70912-1.jpg</td>\n",
       "      <td>1985-06-03</td>\n",
       "      <td>2023-10-16</td>\n",
       "      <td>2024-10-13 17:02:20</td>\n",
       "      <td>Larry King Live was an American talk show host...</td>\n",
       "      <td>1985.0</td>\n",
       "    </tr>\n",
       "  </tbody>\n",
       "</table>\n",
       "</div>"
      ],
      "text/plain": [
       "                                   name                                  slug  \\\n",
       "0  The Fall and Rise of Reginald Perrin  the-fall-and-rise-of-reginald-perrin   \n",
       "1          The New Adventures of Batman          the-new-adventures-of-batman   \n",
       "2           Legends of the Super-Heroes           legends-of-the-super-heroes   \n",
       "3                Tarzan and the Super 7                tarzan-and-the-super-7   \n",
       "4                       Larry King Live                       larry-king-live   \n",
       "\n",
       "                          image  firstAired   lastAired          lastUpdated  \\\n",
       "0  /banners/posters/70908-1.jpg  1976-09-08  1979-01-24  2024-11-13 03:45:22   \n",
       "1  /banners/posters/70909-5.jpg  1977-02-10  1977-05-26  2024-10-23 05:32:01   \n",
       "2  /banners/posters/70910-2.jpg  1979-01-18  1979-01-25  2024-10-03 14:00:47   \n",
       "3  /banners/posters/70911-1.jpg  1978-01-13  1979-04-21  2023-03-14 02:54:52   \n",
       "4  /banners/posters/70912-1.jpg  1985-06-03  2023-10-16  2024-10-13 17:02:20   \n",
       "\n",
       "                                            overview    year  \n",
       "0  Disillusioned after a long career at Sunshine ...  1976.0  \n",
       "1  The New Adventures of Batman is an animated se...  1977.0  \n",
       "2  Heroes and villains of DC Comics square off in...  1979.0  \n",
       "3  Tarzan and the Super 7, is a Saturday morning ...  1978.0  \n",
       "4  Larry King Live was an American talk show host...  1985.0  "
      ]
     },
     "execution_count": 3,
     "metadata": {},
     "output_type": "execute_result"
    }
   ],
   "source": [
    "df.head()"
   ]
  },
  {
   "cell_type": "code",
   "execution_count": null,
   "metadata": {},
   "outputs": [],
   "source": []
  }
 ],
 "metadata": {
  "kernelspec": {
   "display_name": "Python 3",
   "language": "python",
   "name": "python3"
  },
  "language_info": {
   "codemirror_mode": {
    "name": "ipython",
    "version": 3
   },
   "file_extension": ".py",
   "mimetype": "text/x-python",
   "name": "python",
   "nbconvert_exporter": "python",
   "pygments_lexer": "ipython3",
   "version": "3.12.7"
  }
 },
 "nbformat": 4,
 "nbformat_minor": 2
}
